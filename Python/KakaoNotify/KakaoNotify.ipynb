{
 "cells": [
  {
   "cell_type": "code",
   "execution_count": 32,
   "source": [
    "import requests\r\n",
    "\r\n",
    "url = 'https://kauth.kakao.com/oauth/token'\r\n",
    "rest_api_key = [YOUR_API_KEY]\r\n",
    "redirect_uri = 'https://example.com/oauth'\r\n",
    "authorize_code = [YOUR_AUTH_KEY]\r\n",
    "\r\n",
    "data = {\r\n",
    "    'grant_type':'authorization_code',\r\n",
    "    'client_id':rest_api_key,\r\n",
    "    'redirect_uri':redirect_uri,\r\n",
    "    'code': authorize_code,\r\n",
    "    }\r\n",
    "\r\n",
    "response = requests.post(url, data=data)\r\n",
    "tokens = response.json()\r\n",
    "print(tokens)\r\n",
    "\r\n",
    "# json 저장\r\n",
    "import json\r\n",
    "kakao_code_path = [YOUR_CODE_PATH]\r\n",
    "with open(kakao_code_path,\"w\") as fp:\r\n",
    "    json.dump(tokens, fp)"
   ],
   "outputs": [
    {
     "output_type": "stream",
     "name": "stdout",
     "text": [
      "{'access_token': 'tLvjjlEG1Tz8rhGFrcYQrj1JPgAkSQky_gFfcgopcBQAAAF7dNCarw', 'token_type': 'bearer', 'refresh_token': 'WBkPITeDx-6KeCAOApYm56BJpU6kuJIFKZM02AopcBQAAAF7dNCarg', 'expires_in': 21599, 'scope': 'talk_message profile_nickname friends', 'refresh_token_expires_in': 5183999}\n"
     ]
    }
   ],
   "metadata": {}
  },
  {
   "cell_type": "code",
   "execution_count": 33,
   "source": [
    "# json 읽어오기\r\n",
    "import json\r\n",
    "#1.\r\n",
    "with open(kakao_code_path,\"r\") as fp:\r\n",
    "    ts = json.load(fp)\r\n",
    "print(ts)\r\n",
    "print(ts[\"access_token\"])\r\n",
    "\r\n",
    "#2.\r\n",
    "with open(\"kakao_code.json\",\"r\") as fp:\r\n",
    "    ts = json.load(fp)\r\n",
    "    \r\n",
    "print(ts)\r\n",
    "print(ts[\"access_token\"])"
   ],
   "outputs": [
    {
     "output_type": "stream",
     "name": "stdout",
     "text": [
      "{'access_token': 'tLvjjlEG1Tz8rhGFrcYQrj1JPgAkSQky_gFfcgopcBQAAAF7dNCarw', 'token_type': 'bearer', 'refresh_token': 'WBkPITeDx-6KeCAOApYm56BJpU6kuJIFKZM02AopcBQAAAF7dNCarg', 'expires_in': 21599, 'scope': 'talk_message profile_nickname friends', 'refresh_token_expires_in': 5183999}\n",
      "tLvjjlEG1Tz8rhGFrcYQrj1JPgAkSQky_gFfcgopcBQAAAF7dNCarw\n",
      "{'access_token': 'tLvjjlEG1Tz8rhGFrcYQrj1JPgAkSQky_gFfcgopcBQAAAF7dNCarw', 'token_type': 'bearer', 'refresh_token': 'WBkPITeDx-6KeCAOApYm56BJpU6kuJIFKZM02AopcBQAAAF7dNCarg', 'expires_in': 21599, 'scope': 'talk_message profile_nickname friends', 'refresh_token_expires_in': 5183999}\n",
      "tLvjjlEG1Tz8rhGFrcYQrj1JPgAkSQky_gFfcgopcBQAAAF7dNCarw\n"
     ]
    }
   ],
   "metadata": {}
  },
  {
   "cell_type": "code",
   "execution_count": 36,
   "source": [
    "import requests\r\n",
    "import json\r\n",
    "\r\n",
    "#1.\r\n",
    "with open(kakao_code_path,\"r\") as fp:\r\n",
    "    tokens = json.load(fp)\r\n",
    "\r\n",
    "# #2.\r\n",
    "# with open(\"kakao_code.json\",\"r\") as fp:\r\n",
    "#     tokens = json.load(fp)\r\n",
    "\r\n",
    "url=\"https://kapi.kakao.com/v2/api/talk/memo/default/send\"\r\n",
    "\r\n",
    "# kapi.kakao.com/v2/api/talk/memo/default/send \r\n",
    "\r\n",
    "headers={\r\n",
    "    \"Authorization\" : \"Bearer \" + tokens[\"access_token\"]\r\n",
    "}\r\n",
    "\r\n",
    "data={\r\n",
    "    \"template_object\": json.dumps({\r\n",
    "        \"object_type\":\"text\",\r\n",
    "        \"text\":\"Hello, world!\",\r\n",
    "        \"link\":{\r\n",
    "            \"web_url\":\"www.naver.com\"\r\n",
    "        }\r\n",
    "    })\r\n",
    "}\r\n",
    "\r\n",
    "response = requests.post(url ,headers=headers, data=data)\r\n",
    "print(response.json())"
   ],
   "outputs": [
    {
     "output_type": "error",
     "ename": "KeyError",
     "evalue": "'access_token'",
     "traceback": [
      "\u001b[1;31m---------------------------------------------------------------------------\u001b[0m",
      "\u001b[1;31mKeyError\u001b[0m                                  Traceback (most recent call last)",
      "\u001b[1;32m<ipython-input-36-be05f63e872a>\u001b[0m in \u001b[0;36m<module>\u001b[1;34m()\u001b[0m\n\u001b[0;32m     15\u001b[0m \u001b[1;33m\u001b[0m\u001b[0m\n\u001b[0;32m     16\u001b[0m headers={\n\u001b[1;32m---> 17\u001b[1;33m     \u001b[1;34m\"Authorization\"\u001b[0m \u001b[1;33m:\u001b[0m \u001b[1;34m\"Bearer \"\u001b[0m \u001b[1;33m+\u001b[0m \u001b[0mtokens\u001b[0m\u001b[1;33m[\u001b[0m\u001b[1;34m\"access_token\"\u001b[0m\u001b[1;33m]\u001b[0m\u001b[1;33m\u001b[0m\u001b[1;33m\u001b[0m\u001b[0m\n\u001b[0m\u001b[0;32m     18\u001b[0m }\n\u001b[0;32m     19\u001b[0m \u001b[1;33m\u001b[0m\u001b[0m\n",
      "\u001b[1;31mKeyError\u001b[0m: 'access_token'"
     ]
    }
   ],
   "metadata": {}
  }
 ],
 "metadata": {
  "orig_nbformat": 4,
  "language_info": {
   "name": "python",
   "version": "3.6.13",
   "mimetype": "text/x-python",
   "codemirror_mode": {
    "name": "ipython",
    "version": 3
   },
   "pygments_lexer": "ipython3",
   "nbconvert_exporter": "python",
   "file_extension": ".py"
  },
  "kernelspec": {
   "name": "python3",
   "display_name": "Python 3.6.13 64-bit ('base': conda)"
  },
  "interpreter": {
   "hash": "b3ba2566441a7c06988d0923437866b63cedc61552a5af99d1f4fb67d367b25f"
  }
 },
 "nbformat": 4,
 "nbformat_minor": 2
}