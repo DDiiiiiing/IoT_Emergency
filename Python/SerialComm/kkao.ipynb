{
 "cells": [
  {
   "cell_type": "code",
   "execution_count": 1,
   "source": [
    "import requests\r\n",
    "import json\r\n",
    "\r\n",
    "url1 = 'https://kauth.kakao.com/oauth/token'\r\n",
    "rest_api_key = [YOUR_API_KEY]\r\n",
    "redirect_uri = 'https://example.com/oauth'\r\n",
    "authorize_code = [YOUR_AUTH_CODE]\r\n",
    "\r\n",
    "data = {\r\n",
    "'grant_type':'authorization_code',\r\n",
    "'client_id':rest_api_key,\r\n",
    "'redirect_uri':redirect_uri,\r\n",
    "'code': authorize_code,\r\n",
    "}\r\n",
    "\r\n",
    "response = requests.post(url1, data=data)\r\n",
    "tokens = response.json()\r\n",
    "print(tokens)\r\n",
    "\r\n",
    "\r\n",
    "\r\n",
    "#2.\r\n",
    "with open(\"kakao_code.json\",\"w\") as fp:\r\n",
    "    json.dump(tokens, fp)\r\n",
    "\r\n",
    "with open(\"kakao_code.json\",\"r\") as fp:\r\n",
    "    ts = json.load(fp)\r\n",
    "    print(ts)\r\n",
    "    print(ts[\"access_token\"])\r\n",
    "\r\n",
    "url = \"https://kapi.kakao.com/v2/api/talk/memo/default/send\"\r\n",
    "\r\n",
    "# 사용자 토큰\r\n",
    "headers = {\r\n",
    "    \"Authorization\": \"Bearer \" + ts[\"access_token\"]\r\n",
    "}\r\n",
    "\r\n",
    "\r\n",
    "data = {\r\n",
    "    \"template_object\" : json.dumps(\r\n",
    "        { \r\n",
    "            \"object_type\" : \"text\",\r\n",
    "            \"text\" : \"gfdgfhgjkj\",\r\n",
    "            \"link\" : {\"web_url\" : \"www.naver.com\"}\r\n",
    "        }\r\n",
    "    )\r\n",
    "}\r\n",
    "\r\n",
    "response = requests.post(url, headers=headers, data=data)\r\n",
    "print(response.status_code)\r\n",
    "\r\n",
    "if response.json().get('result_code') == 0:\r\n",
    "    print('메시지를 성공적으로 보냈습니다.')\r\n",
    "else:\r\n",
    "    print('메시지를 성공적으로 보내지 못했습니다. 오류메시지 : ' + str(response.json()))\r\n",
    "\r\n"
   ],
   "outputs": [
    {
     "output_type": "stream",
     "name": "stdout",
     "text": [
      "{'access_token': 'yfxqvXdCIvCbAZlN63kIAj2Fo6hSweSz4IJbVgo9c04AAAF7hoBDyw', 'token_type': 'bearer', 'refresh_token': '65CrLLFrA9FHzu-YWt0-LLtdUn_j0NL12ALhzgo9c04AAAF7hoBDyg', 'expires_in': 21599, 'scope': 'talk_message friends', 'refresh_token_expires_in': 5183999}\n",
      "{'access_token': 'yfxqvXdCIvCbAZlN63kIAj2Fo6hSweSz4IJbVgo9c04AAAF7hoBDyw', 'token_type': 'bearer', 'refresh_token': '65CrLLFrA9FHzu-YWt0-LLtdUn_j0NL12ALhzgo9c04AAAF7hoBDyg', 'expires_in': 21599, 'scope': 'talk_message friends', 'refresh_token_expires_in': 5183999}\n",
      "yfxqvXdCIvCbAZlN63kIAj2Fo6hSweSz4IJbVgo9c04AAAF7hoBDyw\n",
      "200\n",
      "메시지를 성공적으로 보냈습니다.\n"
     ]
    }
   ],
   "metadata": {}
  }
 ],
 "metadata": {
  "orig_nbformat": 4,
  "language_info": {
   "name": "python",
   "version": "3.7.11",
   "mimetype": "text/x-python",
   "codemirror_mode": {
    "name": "ipython",
    "version": 3
   },
   "pygments_lexer": "ipython3",
   "nbconvert_exporter": "python",
   "file_extension": ".py"
  },
  "kernelspec": {
   "name": "python3",
   "display_name": "Python 3.7.11 64-bit ('with_TF': conda)"
  },
  "interpreter": {
   "hash": "c7a1aa8ab6bcaf17b0238f21ee2aefa7e7db544504f6e5b8d5eb11dd7ec8cc85"
  }
 },
 "nbformat": 4,
 "nbformat_minor": 2
}